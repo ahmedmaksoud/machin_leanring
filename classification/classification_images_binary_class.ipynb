{
 "cells": [
  {
   "cell_type": "code",
   "execution_count": 2,
   "metadata": {},
   "outputs": [],
   "source": [
    "import numpy as np\n",
    "import pandas as pd\n",
    "import matplotlib.pyplot as plt\n",
    "import seaborn as sns\n",
    "# load_iris dataset\n",
    "from sklearn import datasets\n",
    "# making shuffle resort the data randomly\n",
    "from sklearn import utils\n",
    "# scale data StandardScaler\n",
    "from sklearn.preprocessing import StandardScaler\n",
    "\n",
    "# model metrics\n",
    "from sklearn.metrics import accuracy_score, precision_score, recall_score, f1_score, confusion_matrix, classification_report,precision_recall_curve, roc_curve, roc_auc_score\n",
    "#plot\n",
    "import matplotlib.pyplot as plt\n",
    "#Model\n",
    "from sklearn.linear_model import SGDClassifier\n",
    "# cross_val_score metric but not fair\n",
    "from sklearn.model_selection import cross_val_score, cross_val_predict\n"
   ]
  },
  {
   "cell_type": "code",
   "execution_count": 3,
   "metadata": {},
   "outputs": [],
   "source": [
    "# fetch_openml dataset [manual numbers images] dictionary\n",
    "#every image (28 * 28) pixel (28 ROWS * 28 CLOLUMNS) = 784\n",
    "# dataset CONVERTS CLUMNS TO ROWS (1 * 784)  \n",
    "minist_dataset = datasets.fetch_openml('mnist_784', version=1)"
   ]
  },
  {
   "cell_type": "code",
   "execution_count": 4,
   "metadata": {},
   "outputs": [
    {
     "data": {
      "text/plain": [
       "dict_keys(['data', 'target', 'frame', 'feature_names', 'target_names', 'DESCR', 'details', 'categories', 'url'])"
      ]
     },
     "execution_count": 4,
     "metadata": {},
     "output_type": "execute_result"
    }
   ],
   "source": [
    "# dictionary key\n",
    "keys = minist_dataset.keys()\n",
    "# features\n",
    "data = minist_dataset['data']\n",
    "target = minist_dataset['target']\n",
    "data\n",
    "keys\n",
    " "
   ]
  },
  {
   "cell_type": "code",
   "execution_count": 5,
   "metadata": {},
   "outputs": [
    {
     "data": {
      "text/html": [
       "<div>\n",
       "<style scoped>\n",
       "    .dataframe tbody tr th:only-of-type {\n",
       "        vertical-align: middle;\n",
       "    }\n",
       "\n",
       "    .dataframe tbody tr th {\n",
       "        vertical-align: top;\n",
       "    }\n",
       "\n",
       "    .dataframe thead th {\n",
       "        text-align: right;\n",
       "    }\n",
       "</style>\n",
       "<table border=\"1\" class=\"dataframe\">\n",
       "  <thead>\n",
       "    <tr style=\"text-align: right;\">\n",
       "      <th></th>\n",
       "      <th>pixel1</th>\n",
       "      <th>pixel2</th>\n",
       "      <th>pixel3</th>\n",
       "      <th>pixel4</th>\n",
       "      <th>pixel5</th>\n",
       "      <th>pixel6</th>\n",
       "      <th>pixel7</th>\n",
       "      <th>pixel8</th>\n",
       "      <th>pixel9</th>\n",
       "      <th>pixel10</th>\n",
       "      <th>...</th>\n",
       "      <th>pixel776</th>\n",
       "      <th>pixel777</th>\n",
       "      <th>pixel778</th>\n",
       "      <th>pixel779</th>\n",
       "      <th>pixel780</th>\n",
       "      <th>pixel781</th>\n",
       "      <th>pixel782</th>\n",
       "      <th>pixel783</th>\n",
       "      <th>pixel784</th>\n",
       "      <th>target</th>\n",
       "    </tr>\n",
       "  </thead>\n",
       "  <tbody>\n",
       "    <tr>\n",
       "      <th>0</th>\n",
       "      <td>0</td>\n",
       "      <td>0</td>\n",
       "      <td>0</td>\n",
       "      <td>0</td>\n",
       "      <td>0</td>\n",
       "      <td>0</td>\n",
       "      <td>0</td>\n",
       "      <td>0</td>\n",
       "      <td>0</td>\n",
       "      <td>0</td>\n",
       "      <td>...</td>\n",
       "      <td>0</td>\n",
       "      <td>0</td>\n",
       "      <td>0</td>\n",
       "      <td>0</td>\n",
       "      <td>0</td>\n",
       "      <td>0</td>\n",
       "      <td>0</td>\n",
       "      <td>0</td>\n",
       "      <td>0</td>\n",
       "      <td>5</td>\n",
       "    </tr>\n",
       "    <tr>\n",
       "      <th>1</th>\n",
       "      <td>0</td>\n",
       "      <td>0</td>\n",
       "      <td>0</td>\n",
       "      <td>0</td>\n",
       "      <td>0</td>\n",
       "      <td>0</td>\n",
       "      <td>0</td>\n",
       "      <td>0</td>\n",
       "      <td>0</td>\n",
       "      <td>0</td>\n",
       "      <td>...</td>\n",
       "      <td>0</td>\n",
       "      <td>0</td>\n",
       "      <td>0</td>\n",
       "      <td>0</td>\n",
       "      <td>0</td>\n",
       "      <td>0</td>\n",
       "      <td>0</td>\n",
       "      <td>0</td>\n",
       "      <td>0</td>\n",
       "      <td>0</td>\n",
       "    </tr>\n",
       "    <tr>\n",
       "      <th>2</th>\n",
       "      <td>0</td>\n",
       "      <td>0</td>\n",
       "      <td>0</td>\n",
       "      <td>0</td>\n",
       "      <td>0</td>\n",
       "      <td>0</td>\n",
       "      <td>0</td>\n",
       "      <td>0</td>\n",
       "      <td>0</td>\n",
       "      <td>0</td>\n",
       "      <td>...</td>\n",
       "      <td>0</td>\n",
       "      <td>0</td>\n",
       "      <td>0</td>\n",
       "      <td>0</td>\n",
       "      <td>0</td>\n",
       "      <td>0</td>\n",
       "      <td>0</td>\n",
       "      <td>0</td>\n",
       "      <td>0</td>\n",
       "      <td>4</td>\n",
       "    </tr>\n",
       "    <tr>\n",
       "      <th>3</th>\n",
       "      <td>0</td>\n",
       "      <td>0</td>\n",
       "      <td>0</td>\n",
       "      <td>0</td>\n",
       "      <td>0</td>\n",
       "      <td>0</td>\n",
       "      <td>0</td>\n",
       "      <td>0</td>\n",
       "      <td>0</td>\n",
       "      <td>0</td>\n",
       "      <td>...</td>\n",
       "      <td>0</td>\n",
       "      <td>0</td>\n",
       "      <td>0</td>\n",
       "      <td>0</td>\n",
       "      <td>0</td>\n",
       "      <td>0</td>\n",
       "      <td>0</td>\n",
       "      <td>0</td>\n",
       "      <td>0</td>\n",
       "      <td>1</td>\n",
       "    </tr>\n",
       "    <tr>\n",
       "      <th>4</th>\n",
       "      <td>0</td>\n",
       "      <td>0</td>\n",
       "      <td>0</td>\n",
       "      <td>0</td>\n",
       "      <td>0</td>\n",
       "      <td>0</td>\n",
       "      <td>0</td>\n",
       "      <td>0</td>\n",
       "      <td>0</td>\n",
       "      <td>0</td>\n",
       "      <td>...</td>\n",
       "      <td>0</td>\n",
       "      <td>0</td>\n",
       "      <td>0</td>\n",
       "      <td>0</td>\n",
       "      <td>0</td>\n",
       "      <td>0</td>\n",
       "      <td>0</td>\n",
       "      <td>0</td>\n",
       "      <td>0</td>\n",
       "      <td>9</td>\n",
       "    </tr>\n",
       "    <tr>\n",
       "      <th>...</th>\n",
       "      <td>...</td>\n",
       "      <td>...</td>\n",
       "      <td>...</td>\n",
       "      <td>...</td>\n",
       "      <td>...</td>\n",
       "      <td>...</td>\n",
       "      <td>...</td>\n",
       "      <td>...</td>\n",
       "      <td>...</td>\n",
       "      <td>...</td>\n",
       "      <td>...</td>\n",
       "      <td>...</td>\n",
       "      <td>...</td>\n",
       "      <td>...</td>\n",
       "      <td>...</td>\n",
       "      <td>...</td>\n",
       "      <td>...</td>\n",
       "      <td>...</td>\n",
       "      <td>...</td>\n",
       "      <td>...</td>\n",
       "      <td>...</td>\n",
       "    </tr>\n",
       "    <tr>\n",
       "      <th>69995</th>\n",
       "      <td>0</td>\n",
       "      <td>0</td>\n",
       "      <td>0</td>\n",
       "      <td>0</td>\n",
       "      <td>0</td>\n",
       "      <td>0</td>\n",
       "      <td>0</td>\n",
       "      <td>0</td>\n",
       "      <td>0</td>\n",
       "      <td>0</td>\n",
       "      <td>...</td>\n",
       "      <td>0</td>\n",
       "      <td>0</td>\n",
       "      <td>0</td>\n",
       "      <td>0</td>\n",
       "      <td>0</td>\n",
       "      <td>0</td>\n",
       "      <td>0</td>\n",
       "      <td>0</td>\n",
       "      <td>0</td>\n",
       "      <td>2</td>\n",
       "    </tr>\n",
       "    <tr>\n",
       "      <th>69996</th>\n",
       "      <td>0</td>\n",
       "      <td>0</td>\n",
       "      <td>0</td>\n",
       "      <td>0</td>\n",
       "      <td>0</td>\n",
       "      <td>0</td>\n",
       "      <td>0</td>\n",
       "      <td>0</td>\n",
       "      <td>0</td>\n",
       "      <td>0</td>\n",
       "      <td>...</td>\n",
       "      <td>0</td>\n",
       "      <td>0</td>\n",
       "      <td>0</td>\n",
       "      <td>0</td>\n",
       "      <td>0</td>\n",
       "      <td>0</td>\n",
       "      <td>0</td>\n",
       "      <td>0</td>\n",
       "      <td>0</td>\n",
       "      <td>3</td>\n",
       "    </tr>\n",
       "    <tr>\n",
       "      <th>69997</th>\n",
       "      <td>0</td>\n",
       "      <td>0</td>\n",
       "      <td>0</td>\n",
       "      <td>0</td>\n",
       "      <td>0</td>\n",
       "      <td>0</td>\n",
       "      <td>0</td>\n",
       "      <td>0</td>\n",
       "      <td>0</td>\n",
       "      <td>0</td>\n",
       "      <td>...</td>\n",
       "      <td>0</td>\n",
       "      <td>0</td>\n",
       "      <td>0</td>\n",
       "      <td>0</td>\n",
       "      <td>0</td>\n",
       "      <td>0</td>\n",
       "      <td>0</td>\n",
       "      <td>0</td>\n",
       "      <td>0</td>\n",
       "      <td>4</td>\n",
       "    </tr>\n",
       "    <tr>\n",
       "      <th>69998</th>\n",
       "      <td>0</td>\n",
       "      <td>0</td>\n",
       "      <td>0</td>\n",
       "      <td>0</td>\n",
       "      <td>0</td>\n",
       "      <td>0</td>\n",
       "      <td>0</td>\n",
       "      <td>0</td>\n",
       "      <td>0</td>\n",
       "      <td>0</td>\n",
       "      <td>...</td>\n",
       "      <td>0</td>\n",
       "      <td>0</td>\n",
       "      <td>0</td>\n",
       "      <td>0</td>\n",
       "      <td>0</td>\n",
       "      <td>0</td>\n",
       "      <td>0</td>\n",
       "      <td>0</td>\n",
       "      <td>0</td>\n",
       "      <td>5</td>\n",
       "    </tr>\n",
       "    <tr>\n",
       "      <th>69999</th>\n",
       "      <td>0</td>\n",
       "      <td>0</td>\n",
       "      <td>0</td>\n",
       "      <td>0</td>\n",
       "      <td>0</td>\n",
       "      <td>0</td>\n",
       "      <td>0</td>\n",
       "      <td>0</td>\n",
       "      <td>0</td>\n",
       "      <td>0</td>\n",
       "      <td>...</td>\n",
       "      <td>0</td>\n",
       "      <td>0</td>\n",
       "      <td>0</td>\n",
       "      <td>0</td>\n",
       "      <td>0</td>\n",
       "      <td>0</td>\n",
       "      <td>0</td>\n",
       "      <td>0</td>\n",
       "      <td>0</td>\n",
       "      <td>6</td>\n",
       "    </tr>\n",
       "  </tbody>\n",
       "</table>\n",
       "<p>70000 rows × 785 columns</p>\n",
       "</div>"
      ],
      "text/plain": [
       "      pixel1 pixel2 pixel3 pixel4 pixel5 pixel6 pixel7 pixel8 pixel9 pixel10  \\\n",
       "0          0      0      0      0      0      0      0      0      0       0   \n",
       "1          0      0      0      0      0      0      0      0      0       0   \n",
       "2          0      0      0      0      0      0      0      0      0       0   \n",
       "3          0      0      0      0      0      0      0      0      0       0   \n",
       "4          0      0      0      0      0      0      0      0      0       0   \n",
       "...      ...    ...    ...    ...    ...    ...    ...    ...    ...     ...   \n",
       "69995      0      0      0      0      0      0      0      0      0       0   \n",
       "69996      0      0      0      0      0      0      0      0      0       0   \n",
       "69997      0      0      0      0      0      0      0      0      0       0   \n",
       "69998      0      0      0      0      0      0      0      0      0       0   \n",
       "69999      0      0      0      0      0      0      0      0      0       0   \n",
       "\n",
       "       ... pixel776 pixel777 pixel778 pixel779 pixel780 pixel781 pixel782  \\\n",
       "0      ...        0        0        0        0        0        0        0   \n",
       "1      ...        0        0        0        0        0        0        0   \n",
       "2      ...        0        0        0        0        0        0        0   \n",
       "3      ...        0        0        0        0        0        0        0   \n",
       "4      ...        0        0        0        0        0        0        0   \n",
       "...    ...      ...      ...      ...      ...      ...      ...      ...   \n",
       "69995  ...        0        0        0        0        0        0        0   \n",
       "69996  ...        0        0        0        0        0        0        0   \n",
       "69997  ...        0        0        0        0        0        0        0   \n",
       "69998  ...        0        0        0        0        0        0        0   \n",
       "69999  ...        0        0        0        0        0        0        0   \n",
       "\n",
       "      pixel783 pixel784 target  \n",
       "0            0        0      5  \n",
       "1            0        0      0  \n",
       "2            0        0      4  \n",
       "3            0        0      1  \n",
       "4            0        0      9  \n",
       "...        ...      ...    ...  \n",
       "69995        0        0      2  \n",
       "69996        0        0      3  \n",
       "69997        0        0      4  \n",
       "69998        0        0      5  \n",
       "69999        0        0      6  \n",
       "\n",
       "[70000 rows x 785 columns]"
      ]
     },
     "execution_count": 5,
     "metadata": {},
     "output_type": "execute_result"
    }
   ],
   "source": [
    "# target is array we need to convert it to vector\n",
    "target = target.reshape(-1, 1)\n",
    "\n",
    "\n",
    "all_data = np.concatenate((data, target), axis=1)\n",
    "# convert to pd data frame and with columns feature_names  + target\n",
    "df = pd.DataFrame(all_data, columns=minist_dataset['feature_names'] + ['target'] )\n",
    "df\n"
   ]
  },
  {
   "cell_type": "code",
   "execution_count": 6,
   "metadata": {
    "scrolled": true
   },
   "outputs": [
    {
     "name": "stdout",
     "output_type": "stream",
     "text": [
      "shape is one diamention 784  i will convert it to 28 * 28  (784,)\n"
     ]
    },
    {
     "data": {
      "text/plain": [
       "<matplotlib.image.AxesImage at 0x20f831613c8>"
      ]
     },
     "execution_count": 6,
     "metadata": {},
     "output_type": "execute_result"
    },
    {
     "data": {
      "image/png": "[encoded data removed]",
      "text/plain": [
       "<Figure size 432x288 with 1 Axes>"
      ]
     },
     "metadata": {
      "needs_background": "light"
     },
     "output_type": "display_data"
    }
   ],
   "source": [
    "firts_element = minist_dataset['data'][0,:]\n",
    "print (\"shape is one diamention 784  i will convert it to 28 * 28 \", firts_element.shape)\n",
    "firts_image = firts_element.reshape(28,28)\n",
    "plt.imshow(firts_image,cmap=\"gray\")\n",
    "# it is no 5 u can check data [1,:]\n"
   ]
  },
  {
   "cell_type": "code",
   "execution_count": 7,
   "metadata": {},
   "outputs": [
    {
     "data": {
      "text/plain": [
       "<matplotlib.image.AxesImage at 0x20f8312ccc8>"
      ]
     },
     "execution_count": 7,
     "metadata": {},
     "output_type": "execute_result"
    },
    {
     "data": {
      "image/png": "[encoded data removed]",
      "text/plain": [
       "<Figure size 432x288 with 1 Axes>"
      ]
     },
     "metadata": {
      "needs_background": "light"
     },
     "output_type": "display_data"
    }
   ],
   "source": [
    "# note if u divide any image on 255 it will be the same result\n",
    "firts_image = firts_element.reshape(28,28)/255\n",
    "plt.imshow(firts_image,cmap=\"gray\")\n"
   ]
  },
  {
   "cell_type": "code",
   "execution_count": 8,
   "metadata": {},
   "outputs": [
    {
     "name": "stdout",
     "output_type": "stream",
     "text": [
      "<class 'pandas.core.frame.DataFrame'>\n",
      "RangeIndex: 70000 entries, 0 to 69999\n",
      "Columns: 785 entries, pixel1 to target\n",
      "dtypes: object(785)\n",
      "memory usage: 419.2+ MB\n"
     ]
    }
   ],
   "source": [
    "# show info\n",
    "df.info()"
   ]
  },
  {
   "cell_type": "code",
   "execution_count": 9,
   "metadata": {},
   "outputs": [
    {
     "name": "stdout",
     "output_type": "stream",
     "text": [
      "<class 'pandas.core.frame.DataFrame'>\n",
      "RangeIndex: 70000 entries, 0 to 69999\n",
      "Columns: 785 entries, pixel1 to target\n",
      "dtypes: int32(785)\n",
      "memory usage: 209.6 MB\n"
     ]
    }
   ],
   "source": [
    "## df type is objects that take alot of memory size memory usage: 419.2+ MB\n",
    "df = df.astype(np.int32)\n",
    "df.info()\n",
    "## after conversion memory usage: 209.6 MB"
   ]
  },
  {
   "cell_type": "code",
   "execution_count": 10,
   "metadata": {},
   "outputs": [
    {
     "data": {
      "text/plain": [
       "array([5, 0, 4, 1, 9, 2, 3, 6, 7, 8])"
      ]
     },
     "execution_count": 10,
     "metadata": {},
     "output_type": "execute_result"
    }
   ],
   "source": [
    "# all target Numbers\n",
    "df[\"target\"].unique()"
   ]
  },
  {
   "cell_type": "code",
   "execution_count": 11,
   "metadata": {},
   "outputs": [
    {
     "name": "stdout",
     "output_type": "stream",
     "text": [
      "min val   0\n",
      "max val   255\n"
     ]
    }
   ],
   "source": [
    "#preprocessing\n",
    "# we can not normalize or standarize this numbers as most numbers are 0 11 00 ,\n",
    "# you should get the min an the max no\n",
    "# the max should be 255\n",
    "# if it is 255 divide the data 255\n",
    "# we mention  before if you dvide image by 255 it will be the same reuslts\n",
    "print (\"min val  \", min(df.min()))\n",
    "print (\"max val  \", max(df.max()))"
   ]
  },
  {
   "cell_type": "code",
   "execution_count": 12,
   "metadata": {},
   "outputs": [
    {
     "data": {
      "text/plain": [
       "0        5\n",
       "1        0\n",
       "2        4\n",
       "3        1\n",
       "4        9\n",
       "        ..\n",
       "69995    2\n",
       "69996    3\n",
       "69997    4\n",
       "69998    5\n",
       "69999    6\n",
       "Name: target, Length: 70000, dtype: int32"
      ]
     },
     "execution_count": 12,
     "metadata": {},
     "output_type": "execute_result"
    }
   ],
   "source": [
    "X = df.drop(columns=['target'], axis=1)\n",
    "y = df['target']\n",
    "y"
   ]
  },
  {
   "cell_type": "code",
   "execution_count": 13,
   "metadata": {},
   "outputs": [],
   "source": [
    "# normalize the X data Dvide by 255. [255 . \".\" here float to get all float values not int]\n",
    "X = X /255.\n"
   ]
  },
  {
   "cell_type": "code",
   "execution_count": 14,
   "metadata": {
    "scrolled": true
   },
   "outputs": [
    {
     "name": "stdout",
     "output_type": "stream",
     "text": [
      "X_train shape (20000, 784)\n",
      "Y_train shape (20000,)\n",
      "X_test shape (10000, 784)\n",
      "Y_test shape (10000,)\n"
     ]
    }
   ],
   "source": [
    "## split data \n",
    "## for testing purpose I will take only take till 200 000 rows\n",
    "\n",
    "X_train = X[:20000] # should be 60000\n",
    "y_train = y[:20000]  # should be 60000\n",
    "\n",
    "X_test = X[60000:]\n",
    "y_test = y[60000:]\n",
    "\n",
    "print(\"X_train shape\", X_train.shape)\n",
    "print(\"Y_train shape\", y_train.shape)\n",
    "print(\"X_test shape\", X_test.shape)\n",
    "print(\"Y_test shape\", y_test.shape)\n"
   ]
  },
  {
   "cell_type": "markdown",
   "metadata": {},
   "source": [
    "## Pinary classification (true or false)"
   ]
  },
  {
   "cell_type": "code",
   "execution_count": 69,
   "metadata": {},
   "outputs": [
    {
     "name": "stdout",
     "output_type": "stream",
     "text": [
      "y_train_5.shape (20000,)\n",
      "X_train.shape (20000, 784)\n",
      "y_train_5.shape (20000,)\n"
     ]
    },
    {
     "data": {
      "text/plain": [
       "0         True\n",
       "1        False\n",
       "2        False\n",
       "3        False\n",
       "4        False\n",
       "         ...  \n",
       "19995    False\n",
       "19996     True\n",
       "19997    False\n",
       "19998    False\n",
       "19999    False\n",
       "Name: target, Length: 20000, dtype: bool"
      ]
     },
     "execution_count": 69,
     "metadata": {},
     "output_type": "execute_result"
    }
   ],
   "source": [
    "# check for 5 (classfication for 5)\n",
    "y_train_5 = (y_train == 5)\n",
    "y_test_5 = (y_test == 5)\n",
    "\n",
    "print (\"y_train_5.shape\" , y_train_5.shape)\n",
    "print (\"X_train.shape\" , X_train.shape)\n",
    "print (\"y_train_5.shape\" , y_train.shape)\n",
    "y_train_5\n",
    "# true fase 1 0"
   ]
  },
  {
   "cell_type": "code",
   "execution_count": 16,
   "metadata": {},
   "outputs": [
    {
     "data": {
      "text/plain": [
       "dict_keys(['explained_variance', 'r2', 'max_error', 'neg_median_absolute_error', 'neg_mean_absolute_error', 'neg_mean_squared_error', 'neg_mean_squared_log_error', 'neg_root_mean_squared_error', 'neg_mean_poisson_deviance', 'neg_mean_gamma_deviance', 'accuracy', 'roc_auc', 'roc_auc_ovr', 'roc_auc_ovo', 'roc_auc_ovr_weighted', 'roc_auc_ovo_weighted', 'balanced_accuracy', 'average_precision', 'neg_log_loss', 'neg_brier_score', 'adjusted_rand_score', 'homogeneity_score', 'completeness_score', 'v_measure_score', 'mutual_info_score', 'adjusted_mutual_info_score', 'normalized_mutual_info_score', 'fowlkes_mallows_score', 'precision', 'precision_macro', 'precision_micro', 'precision_samples', 'precision_weighted', 'recall', 'recall_macro', 'recall_micro', 'recall_samples', 'recall_weighted', 'f1', 'f1_macro', 'f1_micro', 'f1_samples', 'f1_weighted', 'jaccard', 'jaccard_macro', 'jaccard_micro', 'jaccard_samples', 'jaccard_weighted'])"
      ]
     },
     "execution_count": 16,
     "metadata": {},
     "output_type": "execute_result"
    }
   ],
   "source": [
    "import sklearn\n",
    "sklearn.metrics.SCORERS.keys()"
   ]
  },
  {
   "cell_type": "code",
   "execution_count": 17,
   "metadata": {},
   "outputs": [
    {
     "data": {
      "text/plain": [
       "SGDClassifier(alpha=0.0001, average=False, class_weight=None,\n",
       "              early_stopping=False, epsilon=0.1, eta0=0.0, fit_intercept=True,\n",
       "              l1_ratio=0.15, learning_rate='optimal', loss='hinge',\n",
       "              max_iter=1000, n_iter_no_change=5, n_jobs=None, penalty=None,\n",
       "              power_t=0.5, random_state=42, shuffle=True, tol=0.001,\n",
       "              validation_fraction=0.1, verbose=0, warm_start=False)"
      ]
     },
     "execution_count": 17,
     "metadata": {},
     "output_type": "execute_result"
    }
   ],
   "source": [
    "## Model\n",
    "#random_state shuffle\n",
    "sGDClassifier = SGDClassifier(penalty=None, random_state=42)\n",
    "sGDClassifier.fit(X_train, y_train_5)"
   ]
  },
  {
   "cell_type": "code",
   "execution_count": 18,
   "metadata": {},
   "outputs": [
    {
     "name": "stdout",
     "output_type": "stream",
     "text": [
      "mean is  0.9674000000000001\n",
      "std is  0.0034770677301427257\n"
     ]
    }
   ],
   "source": [
    "# cross validation scrore it is not the best because it might be by chance\n",
    "#if the model says always false and  most of the data is false\n",
    "c= cross_val_score (estimator=sGDClassifier, X= X_train, y= y_train_5, cv=5,n_jobs=1 , scoring=\"accuracy\")\n",
    "print (\"mean is \", c.mean())\n",
    "print (\"std is \", c.std())\n"
   ]
  },
  {
   "cell_type": "code",
   "execution_count": 19,
   "metadata": {},
   "outputs": [
    {
     "data": {
      "text/plain": [
       "0.91125"
      ]
     },
     "execution_count": 19,
     "metadata": {},
     "output_type": "execute_result"
    }
   ],
   "source": [
    "## sum of true [1] is 1775 most data false this metric is not fair (accuercy)\n",
    "sum = np.sum (y_train_5) \n",
    "res= (20000 - sum) /20000\n",
    "res\n"
   ]
  },
  {
   "cell_type": "code",
   "execution_count": 36,
   "metadata": {},
   "outputs": [
    {
     "name": "stdout",
     "output_type": "stream",
     "text": [
      "y_pred_sgd  (20000,)\n"
     ]
    }
   ],
   "source": [
    "# cross_val_predict with predict\n",
    "## cross_val_predict here i will do prediction [ method=\"predict\"] on the fold by fold predict data\n",
    "## y_pred_sgd predicted data resultes   [true- falses]\n",
    "y_pred_sgd =  cross_val_predict(estimator=sGDClassifier, X= X_train, y= y_train_5, cv=5,n_jobs=1 , method=\"predict\")\n",
    "print (\"y_pred_sgd \", y_pred_sgd.shape)"
   ]
  },
  {
   "cell_type": "code",
   "execution_count": 63,
   "metadata": {},
   "outputs": [
    {
     "name": "stdout",
     "output_type": "stream",
     "text": [
      "true5 (1785,)\n",
      "true5 index0   11\n",
      "true5 index1  35\n",
      "prediction results of 0  False\n",
      "prediction results of 1  False\n",
      "prediction results of 8  False\n",
      "prediction results of 11  True\n",
      "prediction results of 35  True\n"
     ]
    }
   ],
   "source": [
    "# get true indexs of predicted data resultes\n",
    "true5, = np.where(y_pred_sgd )\n",
    "print (\"true5\"  ,true5.shape)\n",
    "print (\"true5 index0  \"  ,true5[0])\n",
    "print (\"true5 index1 \"  ,true5[1])\n",
    "\n",
    "\n",
    "# check item [0] of y_pred_sgd\n",
    "print (\"prediction results of 0 \", y_pred_sgd[0])\n",
    "print (\"prediction results of 1 \", y_pred_sgd[1])\n",
    "print (\"prediction results of 8 \", y_pred_sgd[8])\n",
    "print (\"prediction results of 11 \", y_pred_sgd[11])\n",
    "print (\"prediction results of 35 \", y_pred_sgd[35])\n",
    "\n",
    "\n",
    "\n",
    "\n",
    "#confusion_matrix \n",
    "confmat_sgd = confusion_matrix (y_train_5, y_pred_sgd)\n",
    "# i  looking for 5 >  17894 TN most data is false, 331 FP \n",
    "#                  > 321 FN, 1454 TP"
   ]
  },
  {
   "cell_type": "markdown",
   "metadata": {},
   "source": [
    "## Heatmap"
   ]
  },
  {
   "cell_type": "code",
   "execution_count": 22,
   "metadata": {},
   "outputs": [
    {
     "data": {
      "image/png": "[encoded data removed]",
      "text/plain": [
       "<Figure size 720x432 with 1 Axes>"
      ]
     },
     "metadata": {
      "needs_background": "light"
     },
     "output_type": "display_data"
    }
   ],
   "source": [
    "plt.figure(figsize=(10, 6))\n",
    "sns.heatmap(confmat_sgd, fmt='g', annot=True, cbar=False, vmin=0, cmap='Blues')\n",
    "plt.xticks(ticks=np.arange(2) + 0.5, labels=['False', 'True'])   ## to only handle the names in proper way\n",
    "plt.yticks(ticks=np.arange(2) + 0.5, labels=['False', 'True'])   ## to only handle the names in proper way\n",
    "plt.xlabel('Predicted', fontsize=14, color='b')\n",
    "plt.ylabel('Actual', fontsize=14, color='b')\n",
    "plt.title('Confusion Matrix', fontsize=14, color='b')\n",
    "plt.show()\n"
   ]
  },
  {
   "cell_type": "code",
   "execution_count": 23,
   "metadata": {},
   "outputs": [
    {
     "data": {
      "text/plain": [
       "0.8145658263305322"
      ]
     },
     "execution_count": 23,
     "metadata": {},
     "output_type": "execute_result"
    }
   ],
   "source": [
    "# precison manual\n",
    "1454 / (1454+ 331)"
   ]
  },
  {
   "cell_type": "code",
   "execution_count": 24,
   "metadata": {},
   "outputs": [
    {
     "data": {
      "text/plain": [
       "0.8191549295774648"
      ]
     },
     "execution_count": 24,
     "metadata": {},
     "output_type": "execute_result"
    }
   ],
   "source": [
    "# Recall manual\n",
    "1454 / (1454+ 321)"
   ]
  },
  {
   "cell_type": "code",
   "execution_count": 25,
   "metadata": {},
   "outputs": [
    {
     "data": {
      "text/plain": [
       "0.8145658263305322"
      ]
     },
     "execution_count": 25,
     "metadata": {},
     "output_type": "execute_result"
    }
   ],
   "source": [
    "#precision_score\n",
    "precision_score(y_train_5, y_pred_sgd)"
   ]
  },
  {
   "cell_type": "code",
   "execution_count": 26,
   "metadata": {},
   "outputs": [
    {
     "data": {
      "text/plain": [
       "0.8191549295774648"
      ]
     },
     "execution_count": 26,
     "metadata": {},
     "output_type": "execute_result"
    }
   ],
   "source": [
    "#recall_score metric\n",
    "recall_score(y_train_5, y_pred_sgd)"
   ]
  },
  {
   "cell_type": "code",
   "execution_count": 27,
   "metadata": {},
   "outputs": [
    {
     "data": {
      "text/plain": [
       "0.8168539325842697"
      ]
     },
     "execution_count": 27,
     "metadata": {},
     "output_type": "execute_result"
    }
   ],
   "source": [
    "# the important metric\n",
    "f1_score(y_train_5, y_pred_sgd)"
   ]
  },
  {
   "cell_type": "code",
   "execution_count": 28,
   "metadata": {},
   "outputs": [
    {
     "name": "stdout",
     "output_type": "stream",
     "text": [
      "              precision    recall  f1-score   support\n",
      "\n",
      "       False       0.98      0.98      0.98     18225\n",
      "        True       0.81      0.82      0.82      1775\n",
      "\n",
      "    accuracy                           0.97     20000\n",
      "   macro avg       0.90      0.90      0.90     20000\n",
      "weighted avg       0.97      0.97      0.97     20000\n",
      "\n"
     ]
    }
   ],
   "source": [
    "# look in True         True  row in report       \n",
    "cls = classification_report(y_train_5, y_pred_sgd)\n",
    "print (cls)"
   ]
  },
  {
   "cell_type": "code",
   "execution_count": 37,
   "metadata": {},
   "outputs": [
    {
     "name": "stdout",
     "output_type": "stream",
     "text": [
      "y_scored_sgd_scores   (20000,)\n"
     ]
    },
    {
     "data": {
      "text/plain": [
       "-4.7122842583225975"
      ]
     },
     "execution_count": 37,
     "metadata": {},
     "output_type": "execute_result"
    }
   ],
   "source": [
    "# cross_val_predict with decision_function\n",
    "# get tradeoff [threshold] between precision / recall  \n",
    "# decision_function returns score for every feature \n",
    "\n",
    "y_scored_sgd_scores =  cross_val_predict(estimator=sGDClassifier,\n",
    "                                         X= X_train, y= y_train_5, cv=5,n_jobs=1 , method=\"decision_function\")\n",
    "print (\"y_scored_sgd_scores  \", y_scored_sgd_scores.shape)\n",
    "y_scored_sgd_scores"
   ]
  },
  {
   "cell_type": "code",
   "execution_count": 67,
   "metadata": {},
   "outputs": [
    {
     "name": "stdout",
     "output_type": "stream",
     "text": [
      "y_train_5 [0]  True y_scored_sgd_scores [1]  -88.6434128250494\n"
     ]
    },
    {
     "data": {
      "text/plain": [
       "array([   2.2530607 ,  -72.14470521, -154.19354875, ...,  -16.92025899,\n",
       "       -121.49354645, -126.81183926])"
      ]
     },
     "execution_count": 67,
     "metadata": {},
     "output_type": "execute_result"
    }
   ],
   "source": [
    "print (\"y_train_5 [0] \", y_train_5 [0] , \"y_scored_sgd_scores [1] \", y_scored_sgd_scores[1])\n",
    "#check decision_function\n",
    "sGDClassifier.decision_function(X_train)"
   ]
  },
  {
   "cell_type": "code",
   "execution_count": 31,
   "metadata": {},
   "outputs": [
    {
     "name": "stdout",
     "output_type": "stream",
     "text": [
      "(19728,) (19728,) (19727,)\n"
     ]
    },
    {
     "data": {
      "text/plain": [
       "[<matplotlib.lines.Line2D at 0x2103e3ec888>]"
      ]
     },
     "execution_count": 31,
     "metadata": {},
     "output_type": "execute_result"
    },
    {
     "data": {
      "image/png": "[encoded data removed]",
      "text/plain": [
       "<Figure size 432x288 with 1 Axes>"
      ]
     },
     "metadata": {
      "needs_background": "light"
     },
     "output_type": "display_data"
    }
   ],
   "source": [
    "# get threshold curve \n",
    "# returns 3 values  precision - recall and  thresholds between\n",
    "precision_val, recall_val, thresholds_vla =  precision_recall_curve (y_train_5,y_scored_sgd_scores)\n",
    "\n",
    "print (precision_val.shape, recall_val.shape, thresholds_vla.shape)\n",
    "## thresholds_vla.shape is less 1 so please use  -1 here precision_val[:-1], recall_val[:-1] \n",
    "plt.plot(thresholds_vla, precision_val[:-1], 'b--', label= \"precision\")\n",
    "plt.plot(thresholds_vla, recall_val[:-1], 'r--', label=\"recall\")"
   ]
  },
  {
   "cell_type": "markdown",
   "metadata": {},
   "source": [
    "## If you want to care about some spesfic metric [Theif Or Not Theif] reduce (FP or FN)"
   ]
  },
  {
   "cell_type": "code",
   "execution_count": 32,
   "metadata": {},
   "outputs": [
    {
     "name": "stdout",
     "output_type": "stream",
     "text": [
      "precision_score_before  0.8145658263305322\n",
      "precision_score_after  0.9706498951781971\n",
      "recall_score  0.8191549295774648\n",
      "recall_score_after  0.2608450704225352\n"
     ]
    }
   ],
   "source": [
    "precision_score_before = precision_score(y_train_5, y_pred_sgd)\n",
    "print (\"precision_score_before \", precision_score_before)\n",
    "# if i want to increase precision score with 50 - reduce FP\n",
    "precision_score_after = precision_score(y_train_5, y_scored_sgd_scores > 50)\n",
    "print (\"precision_score_after \", precision_score_after)\n",
    "\n",
    "# we have to change \n",
    "recall_score_before = recall_score(y_train_5, y_pred_sgd)\n",
    "print (\"recall_score \", recall_score_before)\n",
    "# if i want to decrease recall score with 50\n",
    "recall_score_after = recall_score(y_train_5, y_scored_sgd_scores > 50)\n",
    "print (\"recall_score_after \", recall_score_after)\n"
   ]
  },
  {
   "cell_type": "code",
   "execution_count": 33,
   "metadata": {},
   "outputs": [
    {
     "name": "stdout",
     "output_type": "stream",
     "text": [
      "precision_score_before  0.8145658263305322\n",
      "precision_score_after   0.11551090097189388\n",
      "recall_score        0.8191549295774648\n",
      "recall_score_after  0.9909859154929578\n"
     ]
    }
   ],
   "source": [
    "precision_score_before = precision_score(y_train_5, y_pred_sgd)\n",
    "print (\"precision_score_before \", precision_score_before)\n",
    "# if i want to decrease precision score with 100 \n",
    "precision_score_after = precision_score(y_train_5, y_scored_sgd_scores > -100)\n",
    "print (\"precision_score_after  \", precision_score_after)\n",
    "\n",
    "# we have to change \n",
    "recall_score_before = recall_score(y_train_5, y_pred_sgd)\n",
    "print (\"recall_score       \", recall_score_before)\n",
    "# if i want to increase recall score with 100 - reduce FN\n",
    "recall_score_after = recall_score(y_train_5, y_scored_sgd_scores > -100)\n",
    "print (\"recall_score_after \", recall_score_after)\n"
   ]
  },
  {
   "cell_type": "markdown",
   "metadata": {},
   "source": [
    "## ROC"
   ]
  },
  {
   "cell_type": "code",
   "execution_count": 34,
   "metadata": {},
   "outputs": [
    {
     "data": {
      "image/png": "[encoded data removed]",
      "text/plain": [
       "<Figure size 720x432 with 1 Axes>"
      ]
     },
     "metadata": {
      "needs_background": "light"
     },
     "output_type": "display_data"
    }
   ],
   "source": [
    "\n",
    "fpr_sgd, tpr_sgd, thresholds_sgd = roc_curve(y_train_5, y_scored_sgd_scores)\n",
    "\n",
    "\n",
    "## Plotting\n",
    "plt.figure(figsize=(10, 6))\n",
    "plt.plot(fpr_sgd, tpr_sgd, linewidth=2, color='b', label='SGDClassifier')\n",
    "plt.plot([1, 0], [1, 0], 'r--', label='Random Classifier')\n",
    "plt.scatter(0, 0, color='g', s=50)\n",
    "plt.scatter(1, 1, color='g', s=50)\n",
    "plt.title('ROC Curve')\n",
    "plt.xlabel('False Positive Rate (FPR)', fontsize=14)\n",
    "plt.ylabel('True Positive Rate (TPR = Recall)', fontsize=14)\n",
    "plt.legend(fontsize=12)\n",
    "plt.show()"
   ]
  },
  {
   "cell_type": "code",
   "execution_count": 35,
   "metadata": {},
   "outputs": [
    {
     "name": "stdout",
     "output_type": "stream",
     "text": [
      "Area Under Curve using SGD --  0.9652924979230666\n"
     ]
    }
   ],
   "source": [
    "## To get the AUC (Area under Curve) \n",
    "auc_sgd = roc_auc_score(y_train_5, y_scored_sgd_scores)\n",
    "print('Area Under Curve using SGD -- ', auc_sgd)"
   ]
  },
  {
   "cell_type": "code",
   "execution_count": null,
   "metadata": {
    "scrolled": true
   },
   "outputs": [],
   "source": []
  }
 ],
 "metadata": {
  "kernelspec": {
   "display_name": "Python 3",
   "language": "python",
   "name": "python3"
  },
  "language_info": {
   "codemirror_mode": {
    "name": "ipython",
    "version": 3
   },
   "file_extension": ".py",
   "mimetype": "text/x-python",
   "name": "python",
   "nbconvert_exporter": "python",
   "pygments_lexer": "ipython3",
   "version": "3.7.6"
  }
 },
 "nbformat": 4,
 "nbformat_minor": 4
}
